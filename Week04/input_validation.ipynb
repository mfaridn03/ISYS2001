{
  "cells": [
    {
      "cell_type": "markdown",
      "metadata": {
        "id": "view-in-github",
        "colab_type": "text"
      },
      "source": [
        "<a href=\"https://colab.research.google.com/github/mfaridn03/ISYS2001/blob/main/Week04/input_validation.ipynb\" target=\"_parent\"><img src=\"https://colab.research.google.com/assets/colab-badge.svg\" alt=\"Open In Colab\"/></a>"
      ]
    },
    {
      "cell_type": "markdown",
      "id": "b5835b0c",
      "metadata": {
        "id": "b5835b0c"
      },
      "source": [
        "# Input Validation\n",
        "\n",
        "Input validation code verifies that user supplied data, such as text from the input() function, is formatted appropriately.\n",
        "\n",
        "* try/except\n",
        "* isdigit()\n",
        "* pyinputplus\n",
        "\n",
        "## try/except"
      ]
    },
    {
      "cell_type": "code",
      "execution_count": null,
      "id": "695b1f5f",
      "metadata": {
        "id": "695b1f5f",
        "colab": {
          "base_uri": "https://localhost:8080/"
        },
        "outputId": "ff397feb-6651-414d-f8e3-3d93a63e59af"
      },
      "outputs": [
        {
          "output_type": "stream",
          "name": "stdout",
          "text": [
            "Input: K\n",
            "Valid input!\n"
          ]
        }
      ],
      "source": [
        "# Ensure user enters a single letter\n",
        "letter = input(\"Input: \")\n",
        "try:\n",
        "  if len(letter) != 1 or letter.lower() not in 'abcdefghijklmnopqrstuvwxyz':\n",
        "    raise ValueError\n",
        "  print(\"Valid input!\")\n",
        "\n",
        "except ValueError:\n",
        "  print(\"Error: input must be a single character\")"
      ]
    },
    {
      "cell_type": "code",
      "source": [
        "while True:\n",
        "  try:\n",
        "    postcode = int(input(\"Enter your postcode: \"))\n",
        "\n",
        "    if len(str(postcode)) != 4:\n",
        "      print(\"Wrong passcode format!\")\n",
        "    else:\n",
        "      break\n",
        "  except ValueError:\n",
        "    print(\"Input must be a four-digit number\")\n",
        "\n",
        "print(\"Your postcode is\", postcode)\n"
      ],
      "metadata": {
        "id": "cQvBN7bFfB5k",
        "colab": {
          "base_uri": "https://localhost:8080/"
        },
        "outputId": "e043dda2-fd8b-4652-ffe3-c7d4a76b38e0"
      },
      "id": "cQvBN7bFfB5k",
      "execution_count": 1,
      "outputs": [
        {
          "output_type": "stream",
          "name": "stdout",
          "text": [
            "Enter your postcode: 60200\n",
            "Wrong passcode format!\n",
            "Enter your postcode: abc\n",
            "Input must be a four-digit number\n",
            "Enter your postcode: 6004\n",
            "Your postcode is 6004\n"
          ]
        }
      ]
    },
    {
      "cell_type": "markdown",
      "id": "acc7252b",
      "metadata": {
        "id": "acc7252b"
      },
      "source": [
        "## isdigit()"
      ]
    },
    {
      "cell_type": "code",
      "execution_count": 3,
      "id": "5f98c241",
      "metadata": {
        "id": "5f98c241",
        "colab": {
          "base_uri": "https://localhost:8080/"
        },
        "outputId": "3b4971a2-60c5-4e12-cdc3-9c08e761cde3"
      },
      "outputs": [
        {
          "output_type": "stream",
          "name": "stdout",
          "text": [
            "Enter your age: twenty-one\n",
            "Input must be a number!\n",
            "Enter your age: 21\n",
            "You were born in 2002\n"
          ]
        }
      ],
      "source": [
        "current_year = 2023\n",
        "while True:\n",
        "  age = input(\"Enter your age: \")\n",
        "  if not age.isdigit():\n",
        "    print(\"Input must be a number!\")\n",
        "  else:\n",
        "    break\n",
        "\n",
        "print(\"You were born in\", current_year - int(age))"
      ]
    },
    {
      "cell_type": "markdown",
      "id": "18c00dc3",
      "metadata": {
        "id": "18c00dc3"
      },
      "source": [
        "## Module: pyinputs"
      ]
    },
    {
      "cell_type": "code",
      "execution_count": 4,
      "id": "dfe1740b",
      "metadata": {
        "id": "dfe1740b",
        "colab": {
          "base_uri": "https://localhost:8080/"
        },
        "outputId": "06a6e6e6-ab06-4b28-f81f-4f737998d669"
      },
      "outputs": [
        {
          "output_type": "stream",
          "name": "stdout",
          "text": [
            "Looking in indexes: https://pypi.org/simple, https://us-python.pkg.dev/colab-wheels/public/simple/\n",
            "Collecting pyinputplus\n",
            "  Downloading PyInputPlus-0.2.12.tar.gz (20 kB)\n",
            "  Installing build dependencies ... \u001b[?25l\u001b[?25hdone\n",
            "  Getting requirements to build wheel ... \u001b[?25l\u001b[?25hdone\n",
            "  Preparing metadata (pyproject.toml) ... \u001b[?25l\u001b[?25hdone\n",
            "Collecting stdiomask>=0.0.3\n",
            "  Downloading stdiomask-0.0.6.tar.gz (3.6 kB)\n",
            "  Installing build dependencies ... \u001b[?25l\u001b[?25hdone\n",
            "  Getting requirements to build wheel ... \u001b[?25l\u001b[?25hdone\n",
            "  Preparing metadata (pyproject.toml) ... \u001b[?25l\u001b[?25hdone\n",
            "Collecting pysimplevalidate>=0.2.7\n",
            "  Downloading PySimpleValidate-0.2.12.tar.gz (22 kB)\n",
            "  Installing build dependencies ... \u001b[?25l\u001b[?25hdone\n",
            "  Getting requirements to build wheel ... \u001b[?25l\u001b[?25hdone\n",
            "  Preparing metadata (pyproject.toml) ... \u001b[?25l\u001b[?25hdone\n",
            "Building wheels for collected packages: pyinputplus, pysimplevalidate, stdiomask\n",
            "  Building wheel for pyinputplus (pyproject.toml) ... \u001b[?25l\u001b[?25hdone\n",
            "  Created wheel for pyinputplus: filename=PyInputPlus-0.2.12-py3-none-any.whl size=11314 sha256=f566b7bfe34e8d6a3f6e496d706a2ff12c982b5e07c92a91048c04d0fd6a5930\n",
            "  Stored in directory: /root/.cache/pip/wheels/b4/6e/2f/8a852732646cabec36c3fe8fc060ec5bea1c1be711432c47f7\n",
            "  Building wheel for pysimplevalidate (pyproject.toml) ... \u001b[?25l\u001b[?25hdone\n",
            "  Created wheel for pysimplevalidate: filename=PySimpleValidate-0.2.12-py3-none-any.whl size=16187 sha256=31d9503b17960881e0170d57ad854b92692625494461f25884cbef4ca4c62fc4\n",
            "  Stored in directory: /root/.cache/pip/wheels/b1/44/4a/043a4f4c4512c7cdfb0c2b8408b18b0de5fd45cac57f5dfa02\n",
            "  Building wheel for stdiomask (pyproject.toml) ... \u001b[?25l\u001b[?25hdone\n",
            "  Created wheel for stdiomask: filename=stdiomask-0.0.6-py3-none-any.whl size=3318 sha256=db77f2b02517d709a1c3b8a3c97bac9ea20f948afc892b770ed6e6a956409935\n",
            "  Stored in directory: /root/.cache/pip/wheels/1d/aa/47/f41f117d22c5de82e95d9342f44da578c80610739a2d5ebec4\n",
            "Successfully built pyinputplus pysimplevalidate stdiomask\n",
            "Installing collected packages: stdiomask, pysimplevalidate, pyinputplus\n",
            "Successfully installed pyinputplus-0.2.12 pysimplevalidate-0.2.12 stdiomask-0.0.6\n"
          ]
        }
      ],
      "source": [
        "!pip install pyinputplus"
      ]
    },
    {
      "cell_type": "code",
      "source": [
        "import pyinputplus as pyip\n",
        "\n",
        "name = pyip.inputStr(\"Name: \")\n",
        "month = pyip.inputMonth(\"Birth month: \")\n",
        "year = pyip.inputInt(\"Year: \")\n",
        "\n",
        "month_list = [\"January\", \"February\", \"March\", \"April\", \"May\", \"June\", \"July\", \"August\", \"September\", \"October\", \"November\", \"December\"]\n",
        "month = month_list.index(month) + 1\n",
        "day = pyip.inputDayOfMonth(year=year, month=month, prompt=\"Day: \")\n",
        "\n",
        "print(f\"{name} was born on {day} {month_list[month - 1]} {year}\")\n",
        "\n"
      ],
      "metadata": {
        "id": "OvqPitIkh379",
        "colab": {
          "base_uri": "https://localhost:8080/"
        },
        "outputId": "7f576da7-0679-4587-fa50-5c0ce8e42340"
      },
      "id": "OvqPitIkh379",
      "execution_count": 18,
      "outputs": [
        {
          "output_type": "stream",
          "name": "stdout",
          "text": [
            "Name: Donny\n",
            "Birth month: apr\n",
            "Year: 2010\n",
            "Day: 31\n",
            "'31' is not a day in the month of April 2010\n",
            "Day: 30\n",
            "Donny was born on 30 April 2010\n"
          ]
        }
      ]
    },
    {
      "cell_type": "code",
      "source": [
        "dir(pyip)"
      ],
      "metadata": {
        "id": "BSY3chdWieP1",
        "colab": {
          "base_uri": "https://localhost:8080/"
        },
        "outputId": "3e0e2fff-fa10-4ae0-a439-eaf274ce049c"
      },
      "id": "BSY3chdWieP1",
      "execution_count": 7,
      "outputs": [
        {
          "output_type": "execute_result",
          "data": {
            "text/plain": [
              "['Any',\n",
              " 'Callable',\n",
              " 'Optional',\n",
              " 'Pattern',\n",
              " 'PyInputPlusException',\n",
              " 'RetryLimitException',\n",
              " 'Sequence',\n",
              " 'TimeoutException',\n",
              " 'Union',\n",
              " 'ValidationException',\n",
              " '__builtins__',\n",
              " '__cached__',\n",
              " '__doc__',\n",
              " '__file__',\n",
              " '__loader__',\n",
              " '__name__',\n",
              " '__package__',\n",
              " '__path__',\n",
              " '__spec__',\n",
              " '__version__',\n",
              " '_checkLimitAndTimeout',\n",
              " '_genericInput',\n",
              " 'absolute_import',\n",
              " 'division',\n",
              " 'functionName',\n",
              " 'inputAddress',\n",
              " 'inputBool',\n",
              " 'inputChoice',\n",
              " 'inputCustom',\n",
              " 'inputDate',\n",
              " 'inputDatetime',\n",
              " 'inputDayOfMonth',\n",
              " 'inputDayOfWeek',\n",
              " 'inputEmail',\n",
              " 'inputFilename',\n",
              " 'inputFilepath',\n",
              " 'inputFloat',\n",
              " 'inputIP',\n",
              " 'inputInt',\n",
              " 'inputMenu',\n",
              " 'inputMonth',\n",
              " 'inputName',\n",
              " 'inputNum',\n",
              " 'inputPassword',\n",
              " 'inputPhone',\n",
              " 'inputRegex',\n",
              " 'inputRegexStr',\n",
              " 'inputStr',\n",
              " 'inputTime',\n",
              " 'inputURL',\n",
              " 'inputUSState',\n",
              " 'inputYesNo',\n",
              " 'inputZip',\n",
              " 'parameters',\n",
              " 'print_function',\n",
              " 'pysv',\n",
              " 'stdiomask',\n",
              " 'time',\n",
              " 'validateAddress',\n",
              " 'validateBool',\n",
              " 'validateChoice',\n",
              " 'validateDate',\n",
              " 'validateDatetime',\n",
              " 'validateDayOfMonth',\n",
              " 'validateDayOfWeek',\n",
              " 'validateEmail',\n",
              " 'validateFilename',\n",
              " 'validateFilepath',\n",
              " 'validateFloat',\n",
              " 'validateIP',\n",
              " 'validateIPv4',\n",
              " 'validateIPv6',\n",
              " 'validateInt',\n",
              " 'validateMonth',\n",
              " 'validateName',\n",
              " 'validateNum',\n",
              " 'validatePhone',\n",
              " 'validateRegex',\n",
              " 'validateRegexStr',\n",
              " 'validateStr',\n",
              " 'validateTime',\n",
              " 'validateURL',\n",
              " 'validateUSState',\n",
              " 'validateYesNo']"
            ]
          },
          "metadata": {},
          "execution_count": 7
        }
      ]
    }
  ],
  "metadata": {
    "kernelspec": {
      "display_name": "Python 3 (ipykernel)",
      "language": "python",
      "name": "python3"
    },
    "language_info": {
      "codemirror_mode": {
        "name": "ipython",
        "version": 3
      },
      "file_extension": ".py",
      "mimetype": "text/x-python",
      "name": "python",
      "nbconvert_exporter": "python",
      "pygments_lexer": "ipython3",
      "version": "3.9.6"
    },
    "colab": {
      "provenance": [],
      "include_colab_link": true
    }
  },
  "nbformat": 4,
  "nbformat_minor": 5
}