{
  "cells": [
    {
      "cell_type": "markdown",
      "metadata": {
        "id": "view-in-github",
        "colab_type": "text"
      },
      "source": [
        "<a href=\"https://colab.research.google.com/github/mfaridn03/ISYS2001/blob/main/Week04/input_validation.ipynb\" target=\"_parent\"><img src=\"https://colab.research.google.com/assets/colab-badge.svg\" alt=\"Open In Colab\"/></a>"
      ]
    },
    {
      "cell_type": "markdown",
      "id": "b5835b0c",
      "metadata": {
        "id": "b5835b0c"
      },
      "source": [
        "# Input Validation\n",
        "\n",
        "Input validation code verifies that user supplied data, such as text from the input() function, is formatted appropriately.\n",
        "\n",
        "* try/except\n",
        "* isdigit()\n",
        "* pyinputplus\n",
        "\n",
        "## try/except"
      ]
    },
    {
      "cell_type": "code",
      "execution_count": 3,
      "id": "695b1f5f",
      "metadata": {
        "id": "695b1f5f",
        "colab": {
          "base_uri": "https://localhost:8080/"
        },
        "outputId": "ff397feb-6651-414d-f8e3-3d93a63e59af"
      },
      "outputs": [
        {
          "output_type": "stream",
          "name": "stdout",
          "text": [
            "Input: K\n",
            "Valid input!\n"
          ]
        }
      ],
      "source": [
        "# Ensure user enters a single letter\n",
        "letter = input(\"Input: \")\n",
        "try:\n",
        "  if len(letter) != 1 or letter.lower() not in 'abcdefghijklmnopqrstuvwxyz':\n",
        "    raise ValueError\n",
        "  print(\"Valid input!\")\n",
        "\n",
        "except ValueError:\n",
        "  print(\"Error: input must be a single character\")"
      ]
    },
    {
      "cell_type": "code",
      "source": [],
      "metadata": {
        "id": "cQvBN7bFfB5k"
      },
      "id": "cQvBN7bFfB5k",
      "execution_count": null,
      "outputs": []
    },
    {
      "cell_type": "markdown",
      "id": "acc7252b",
      "metadata": {
        "id": "acc7252b"
      },
      "source": [
        "## isdigit()"
      ]
    },
    {
      "cell_type": "code",
      "execution_count": null,
      "id": "5f98c241",
      "metadata": {
        "id": "5f98c241"
      },
      "outputs": [],
      "source": []
    },
    {
      "cell_type": "markdown",
      "id": "18c00dc3",
      "metadata": {
        "id": "18c00dc3"
      },
      "source": [
        "## Module: pyinputs"
      ]
    },
    {
      "cell_type": "code",
      "execution_count": null,
      "id": "dfe1740b",
      "metadata": {
        "id": "dfe1740b"
      },
      "outputs": [],
      "source": []
    },
    {
      "cell_type": "code",
      "source": [
        "\n"
      ],
      "metadata": {
        "id": "OvqPitIkh379"
      },
      "id": "OvqPitIkh379",
      "execution_count": null,
      "outputs": []
    },
    {
      "cell_type": "code",
      "source": [],
      "metadata": {
        "id": "BSY3chdWieP1"
      },
      "id": "BSY3chdWieP1",
      "execution_count": null,
      "outputs": []
    }
  ],
  "metadata": {
    "kernelspec": {
      "display_name": "Python 3 (ipykernel)",
      "language": "python",
      "name": "python3"
    },
    "language_info": {
      "codemirror_mode": {
        "name": "ipython",
        "version": 3
      },
      "file_extension": ".py",
      "mimetype": "text/x-python",
      "name": "python",
      "nbconvert_exporter": "python",
      "pygments_lexer": "ipython3",
      "version": "3.9.6"
    },
    "colab": {
      "provenance": [],
      "include_colab_link": true
    }
  },
  "nbformat": 4,
  "nbformat_minor": 5
}