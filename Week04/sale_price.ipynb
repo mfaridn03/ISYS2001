{
  "nbformat": 4,
  "nbformat_minor": 0,
  "metadata": {
    "colab": {
      "provenance": [],
      "include_colab_link": true
    },
    "kernelspec": {
      "name": "python3",
      "display_name": "Python 3"
    },
    "language_info": {
      "name": "python"
    }
  },
  "cells": [
    {
      "cell_type": "markdown",
      "metadata": {
        "id": "view-in-github",
        "colab_type": "text"
      },
      "source": [
        "<a href=\"https://colab.research.google.com/github/mfaridn03/ISYS2001/blob/main/Week04/sale_price.ipynb\" target=\"_parent\"><img src=\"https://colab.research.google.com/assets/colab-badge.svg\" alt=\"Open In Colab\"/></a>"
      ]
    },
    {
      "cell_type": "markdown",
      "metadata": {
        "id": "cgTeiXOtSPjH"
      },
      "source": [
        "# Sales Price\n",
        "\n",
        "A local department store needs to develop a program that will computer the total price (including goods and services tax) of the item on sale when given an item's original price and discount percentage.\n",
        "\n",
        "## Tasks\n",
        "* Save to Github\n",
        "* Design Algorithm\n",
        "* Write and test the program in Python"
      ]
    },
    {
      "cell_type": "code",
      "metadata": {
        "id": "pPIN2ZcrSqdw",
        "colab": {
          "base_uri": "https://localhost:8080/"
        },
        "outputId": "1c212bd6-c68e-4028-ca56-cee6d65a9239"
      },
      "source": [
        "# Assuming that GST is always 10% and is applied after all discounts\n",
        "GST_MULTIPLIER = 1.1\n",
        "def calculate_item_price(original, disc):\n",
        "  discounted_price = original * (1 - (disc * 0.01))\n",
        "  final_price = discounted_price * GST_MULTIPLIER\n",
        "  return round(final_price, 2)\n",
        "\n",
        "\n",
        "original_price = float(input(\"Item's original price: \"))\n",
        "discount = int(input(\"Discount percentage (if 15%, enter 15): \"))\n",
        "final = calculate_item_price(original_price, discount)\n",
        "\n",
        "print(f\"Final item price is ${final} after 10% GST\")"
      ],
      "execution_count": 4,
      "outputs": [
        {
          "output_type": "stream",
          "name": "stdout",
          "text": [
            "Item's original price: 1450\n",
            "Discount percentage (if 15%, enter 15): 12\n",
            "Final item price is $1403.6 after 10% GST\n"
          ]
        }
      ]
    }
  ]
}