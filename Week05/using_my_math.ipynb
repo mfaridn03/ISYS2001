{
  "nbformat": 4,
  "nbformat_minor": 0,
  "metadata": {
    "colab": {
      "provenance": [],
      "include_colab_link": true
    },
    "kernelspec": {
      "name": "python3",
      "display_name": "Python 3"
    },
    "language_info": {
      "name": "python"
    }
  },
  "cells": [
    {
      "cell_type": "markdown",
      "metadata": {
        "id": "view-in-github",
        "colab_type": "text"
      },
      "source": [
        "<a href=\"https://colab.research.google.com/github/mfaridn03/ISYS2001/blob/main/Week05/using_my_math.ipynb\" target=\"_parent\"><img src=\"https://colab.research.google.com/assets/colab-badge.svg\" alt=\"Open In Colab\"/></a>"
      ]
    },
    {
      "cell_type": "markdown",
      "source": [
        "# Test Module: my_math.ipynb\n",
        "\n",
        "In this notebook, write some code to test the functions in *my_math.ipynb* by importing the file as python module. *my_math.ipynb* has some basic arithmetic functions in it.\n",
        "\n",
        "We will try importing as a python script and as a notebook.\n",
        "\n",
        "## Task 0 - Import this notebook to GitHub\n",
        "Save the notebook to your local GitHub repository.\n",
        "\n",
        "## Task 1 - Import as a Python script\n",
        "To do this you will need to:\n",
        "* open my_math.ipynb from the ISYS2001 Worksheets repository\n",
        "* download/save as my_math.py\n",
        "* from this notebook upload my_math.py.  This will put it in the same folder as this notebook.\n",
        "* Import the my_math module\n",
        "\n",
        "    import my_math\n",
        "* write some code to test the functions in my_math module"
      ],
      "metadata": {
        "id": "pM6Ipzg-fJzT"
      }
    },
    {
      "cell_type": "code",
      "execution_count": 2,
      "metadata": {
        "id": "vc2SBxd8fDyE",
        "colab": {
          "base_uri": "https://localhost:8080/"
        },
        "outputId": "cc840ff8-3f10-45b1-aa24-2642102cd56e"
      },
      "outputs": [
        {
          "output_type": "stream",
          "name": "stdout",
          "text": [
            "15\n",
            "4.0\n",
            "36\n",
            "9\n"
          ]
        }
      ],
      "source": [
        "import my_math\n",
        "\n",
        "a = 12\n",
        "b = 3\n",
        "\n",
        "print(my_math.add(a, b))\n",
        "print(my_math.divide(a, b))\n",
        "print(my_math.multiply(a, b))\n",
        "print(my_math.subtract(a, b))"
      ]
    },
    {
      "cell_type": "markdown",
      "source": [
        "## Task 2 - Import as a Notebook\n",
        "\n",
        "To do this you will need:\n",
        "* intall margo loader\n",
        "* open my_math.ipynb from the ISYS2001 Worksheets repository\n",
        "* download as a notebook my_math.ipynb\n",
        "* from this notebook upload my_math.ipynb.  This will put it in the same folder as this notebook.\n",
        "* import the notebook\n",
        "    import margo_loader\n",
        "    import my_math\n",
        "\n",
        "* Wrtie some code to test the functions in my_math notebook \n"
      ],
      "metadata": {
        "id": "3mChsfz3hbv2"
      }
    },
    {
      "cell_type": "code",
      "source": [
        "!pip install margo_loader"
      ],
      "metadata": {
        "id": "QOOQhfvIiOss",
        "colab": {
          "base_uri": "https://localhost:8080/"
        },
        "outputId": "c10052cd-57f9-4d50-b76d-38f8c311bdd3"
      },
      "execution_count": 4,
      "outputs": [
        {
          "output_type": "stream",
          "name": "stdout",
          "text": [
            "Looking in indexes: https://pypi.org/simple, https://us-python.pkg.dev/colab-wheels/public/simple/\n",
            "Collecting margo_loader\n",
            "  Downloading margo_loader-1.0.4-py3-none-any.whl (13 kB)\n",
            "Collecting margo-parser<2,>=1\n",
            "  Downloading margo_parser-1.0.3-py3-none-any.whl (11 kB)\n",
            "Requirement already satisfied: nbformat<6,>5 in /usr/local/lib/python3.9/dist-packages (from margo_loader) (5.8.0)\n",
            "Collecting lark[regex]==1.1.5\n",
            "  Downloading lark-1.1.5-py3-none-any.whl (107 kB)\n",
            "\u001b[2K     \u001b[90m━━━━━━━━━━━━━━━━━━━━━━━━━━━━━━━━━━━━━━━\u001b[0m \u001b[32m108.0/108.0 KB\u001b[0m \u001b[31m5.9 MB/s\u001b[0m eta \u001b[36m0:00:00\u001b[0m\n",
            "\u001b[?25hCollecting pyyaml==5.3.1\n",
            "  Downloading PyYAML-5.3.1.tar.gz (269 kB)\n",
            "\u001b[2K     \u001b[90m━━━━━━━━━━━━━━━━━━━━━━━━━━━━━━━━━━━━━━\u001b[0m \u001b[32m269.4/269.4 KB\u001b[0m \u001b[31m17.9 MB/s\u001b[0m eta \u001b[36m0:00:00\u001b[0m\n",
            "\u001b[?25h  Preparing metadata (setup.py) ... \u001b[?25l\u001b[?25hdone\n",
            "Requirement already satisfied: regex in /usr/local/lib/python3.9/dist-packages (from lark[regex]==1.1.5->margo-parser<2,>=1->margo_loader) (2022.10.31)\n",
            "Requirement already satisfied: traitlets>=5.1 in /usr/local/lib/python3.9/dist-packages (from nbformat<6,>5->margo_loader) (5.7.1)\n",
            "Requirement already satisfied: jsonschema>=2.6 in /usr/local/lib/python3.9/dist-packages (from nbformat<6,>5->margo_loader) (4.3.3)\n",
            "Requirement already satisfied: fastjsonschema in /usr/local/lib/python3.9/dist-packages (from nbformat<6,>5->margo_loader) (2.16.3)\n",
            "Requirement already satisfied: jupyter-core in /usr/local/lib/python3.9/dist-packages (from nbformat<6,>5->margo_loader) (5.3.0)\n",
            "Requirement already satisfied: pyrsistent!=0.17.0,!=0.17.1,!=0.17.2,>=0.14.0 in /usr/local/lib/python3.9/dist-packages (from jsonschema>=2.6->nbformat<6,>5->margo_loader) (0.19.3)\n",
            "Requirement already satisfied: attrs>=17.4.0 in /usr/local/lib/python3.9/dist-packages (from jsonschema>=2.6->nbformat<6,>5->margo_loader) (22.2.0)\n",
            "Requirement already satisfied: platformdirs>=2.5 in /usr/local/lib/python3.9/dist-packages (from jupyter-core->nbformat<6,>5->margo_loader) (3.2.0)\n",
            "Building wheels for collected packages: pyyaml\n",
            "  Building wheel for pyyaml (setup.py) ... \u001b[?25l\u001b[?25hdone\n",
            "  Created wheel for pyyaml: filename=PyYAML-5.3.1-cp39-cp39-linux_x86_64.whl size=44634 sha256=2ca1540d0046951009f40a17f3e9f486674f924994c61574d11c0d82c1413fd7\n",
            "  Stored in directory: /root/.cache/pip/wheels/69/60/81/5cd74b8ee068fbe9e04ca0d53148f28f5c6e2c5b177d5dd622\n",
            "Successfully built pyyaml\n",
            "Installing collected packages: lark, pyyaml, margo-parser, margo_loader\n",
            "  Attempting uninstall: pyyaml\n",
            "    Found existing installation: PyYAML 6.0\n",
            "    Uninstalling PyYAML-6.0:\n",
            "      Successfully uninstalled PyYAML-6.0\n",
            "\u001b[31mERROR: pip's dependency resolver does not currently take into account all the packages that are installed. This behaviour is the source of the following dependency conflicts.\n",
            "flax 0.6.8 requires PyYAML>=5.4.1, but you have pyyaml 5.3.1 which is incompatible.\u001b[0m\u001b[31m\n",
            "\u001b[0mSuccessfully installed lark-1.1.5 margo-parser-1.0.3 margo_loader-1.0.4 pyyaml-5.3.1\n"
          ]
        }
      ]
    },
    {
      "cell_type": "code",
      "source": [
        "import margo_loader\n",
        "import my_math\n",
        "\n",
        "a = 12\n",
        "b = 3\n",
        "\n",
        "print(my_math.add(a, b))\n",
        "print(my_math.divide(a, b))\n",
        "print(my_math.multiply(a, b))\n",
        "print(my_math.subtract(a, b))"
      ],
      "metadata": {
        "colab": {
          "base_uri": "https://localhost:8080/"
        },
        "id": "9tKZx9q0Z1az",
        "outputId": "83619712-5af2-49b7-bc59-e658ce3c0ae8"
      },
      "execution_count": 6,
      "outputs": [
        {
          "output_type": "stream",
          "name": "stdout",
          "text": [
            "15\n",
            "4.0\n",
            "36\n",
            "9\n"
          ]
        }
      ]
    }
  ]
}