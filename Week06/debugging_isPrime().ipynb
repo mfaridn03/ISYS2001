{
  "nbformat": 4,
  "nbformat_minor": 0,
  "metadata": {
    "colab": {
      "provenance": [],
      "include_colab_link": true
    },
    "kernelspec": {
      "name": "python3",
      "display_name": "Python 3"
    },
    "language_info": {
      "name": "python"
    }
  },
  "cells": [
    {
      "cell_type": "markdown",
      "metadata": {
        "id": "view-in-github",
        "colab_type": "text"
      },
      "source": [
        "<a href=\"https://colab.research.google.com/github/mfaridn03/ISYS2001/blob/main/Week06/debugging_isPrime().ipynb\" target=\"_parent\"><img src=\"https://colab.research.google.com/assets/colab-badge.svg\" alt=\"Open In Colab\"/></a>"
      ]
    },
    {
      "cell_type": "markdown",
      "source": [
        "## Debug isPrime()\n",
        "What is your preferred method? Do you like using print() or prefer *pdb*?   Since mistakes in programs will happen, the important part is that you have a debugging strategy, not which tool you use.\n",
        "\n",
        "Here is a function that needs debugging. Using either print() or *pdb*, debug the following function."
      ],
      "metadata": {
        "id": "LIfoDVzKX7uK"
      }
    },
    {
      "cell_type": "code",
      "source": [
        "def isPrime(candidate):\n",
        "    if candidate <= 1:\n",
        "        return False\n",
        "\n",
        "    lower = candidate - 1\n",
        "    while lower > 1:\n",
        "        if candidate / lower == candidate // lower:\n",
        "            # if a number is not prime then its modulo must be zero when divided by a factor -> `lower`\n",
        "            # If a number is detected not to be prime but modulo is not zero then there's an error\n",
        "            print(f\"--- ERROR: {candidate=} | {lower=}\" if (candidate % lower != 0) else \"-\")\n",
        "            return False\n",
        "        lower -= 1\n",
        "\n",
        "    # no need for print debugging for True results since any error would be\n",
        "    # picked up by the previous print debug\n",
        "    return True"
      ],
      "metadata": {
        "id": "YH9gDoOYvKwg"
      },
      "execution_count": 1,
      "outputs": []
    },
    {
      "cell_type": "code",
      "source": [
        "for i in range(1, 101):\n",
        "  if isPrime(i):\n",
        "    print(f\"{i} is prime\")"
      ],
      "metadata": {
        "colab": {
          "base_uri": "https://localhost:8080/"
        },
        "id": "Jxhd_Pd-RdnX",
        "outputId": "ce0c4b19-d6b0-4e5c-c154-46e2cd2291e7"
      },
      "execution_count": 2,
      "outputs": [
        {
          "output_type": "stream",
          "name": "stdout",
          "text": [
            "2 is prime\n",
            "3 is prime\n",
            "-\n",
            "5 is prime\n",
            "-\n",
            "7 is prime\n",
            "-\n",
            "-\n",
            "-\n",
            "11 is prime\n",
            "-\n",
            "13 is prime\n",
            "-\n",
            "-\n",
            "-\n",
            "17 is prime\n",
            "-\n",
            "19 is prime\n",
            "-\n",
            "-\n",
            "-\n",
            "23 is prime\n",
            "-\n",
            "-\n",
            "-\n",
            "-\n",
            "-\n",
            "29 is prime\n",
            "-\n",
            "31 is prime\n",
            "-\n",
            "-\n",
            "-\n",
            "-\n",
            "-\n",
            "37 is prime\n",
            "-\n",
            "-\n",
            "-\n",
            "41 is prime\n",
            "-\n",
            "43 is prime\n",
            "-\n",
            "-\n",
            "-\n",
            "47 is prime\n",
            "-\n",
            "-\n",
            "-\n",
            "-\n",
            "-\n",
            "53 is prime\n",
            "-\n",
            "-\n",
            "-\n",
            "-\n",
            "-\n",
            "59 is prime\n",
            "-\n",
            "61 is prime\n",
            "-\n",
            "-\n",
            "-\n",
            "-\n",
            "-\n",
            "67 is prime\n",
            "-\n",
            "-\n",
            "-\n",
            "71 is prime\n",
            "-\n",
            "73 is prime\n",
            "-\n",
            "-\n",
            "-\n",
            "-\n",
            "-\n",
            "79 is prime\n",
            "-\n",
            "-\n",
            "-\n",
            "83 is prime\n",
            "-\n",
            "-\n",
            "-\n",
            "-\n",
            "-\n",
            "89 is prime\n",
            "-\n",
            "-\n",
            "-\n",
            "-\n",
            "-\n",
            "-\n",
            "-\n",
            "97 is prime\n",
            "-\n",
            "-\n",
            "-\n"
          ]
        }
      ]
    }
  ]
}