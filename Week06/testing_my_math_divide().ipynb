{
  "nbformat": 4,
  "nbformat_minor": 0,
  "metadata": {
    "colab": {
      "provenance": [],
      "include_colab_link": true
    },
    "kernelspec": {
      "name": "python3",
      "display_name": "Python 3"
    },
    "language_info": {
      "name": "python"
    }
  },
  "cells": [
    {
      "cell_type": "markdown",
      "metadata": {
        "id": "view-in-github",
        "colab_type": "text"
      },
      "source": [
        "<a href=\"https://colab.research.google.com/github/mfaridn03/ISYS2001/blob/main/Week06/testing_my_math_divide().ipynb\" target=\"_parent\"><img src=\"https://colab.research.google.com/assets/colab-badge.svg\" alt=\"Open In Colab\"/></a>"
      ]
    },
    {
      "cell_type": "markdown",
      "source": [
        "## Testing  my_math.divide()\n",
        "\n",
        "What is your preferred testing strategy? Do you like using the assert statement or prefer doctest?  \n",
        "\n",
        "Using your preferred testing strategy, develop a test table and test the following funciton.  Where required update the function so all test behave as expected.\n",
        "\n",
        "\n",
        "## Function to test"
      ],
      "metadata": {
        "id": "LIfoDVzKX7uK"
      }
    },
    {
      "cell_type": "code",
      "source": [
        "def divide(x, y):\n",
        "    '''Divide first by second number'''\n",
        "    return x / y"
      ],
      "metadata": {
        "id": "YH9gDoOYvKwg"
      },
      "execution_count": 1,
      "outputs": []
    },
    {
      "cell_type": "markdown",
      "source": [
        "## Test Table\n",
        "\n",
        "List you test cases here."
      ],
      "metadata": {
        "id": "JYSZ-53nLF6n"
      }
    },
    {
      "cell_type": "code",
      "source": [
        "assert divide(4, 2) == 2, \"Two even numbers\"\n",
        "\n",
        "assert divide(2, 4) == 0.5, \"Two even numbers, smaller numerator\"\n",
        "\n",
        "assert divide(7, 2) == 3.5, \"One even one odd\"\n",
        "\n",
        "assert divide(9, 3) == 3, \"Two odd\"\n",
        "\n",
        "assert divide(0, 9) == 0, \"zero division\"\n",
        "\n",
        "assert divide(11, 1) == 11, \"divide by 1\"\n",
        "\n",
        "try:\n",
        "  assert divide(8, 0), \"division by zero\"\n",
        "except ZeroDivisionError:\n",
        "  pass  # pass the test\n",
        "else:\n",
        "  assert divide(8, 0), \"divisino by zero (This should be unreachable!)\""
      ],
      "metadata": {
        "id": "DMTITEmbLE_Z"
      },
      "execution_count": 5,
      "outputs": []
    }
  ]
}