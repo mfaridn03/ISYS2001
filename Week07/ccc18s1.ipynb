{
  "nbformat": 4,
  "nbformat_minor": 0,
  "metadata": {
    "colab": {
      "provenance": [],
      "authorship_tag": "ABX9TyONxENzsDu7umIpq3b0A7MD",
      "include_colab_link": true
    },
    "kernelspec": {
      "name": "python3",
      "display_name": "Python 3"
    },
    "language_info": {
      "name": "python"
    }
  },
  "cells": [
    {
      "cell_type": "markdown",
      "metadata": {
        "id": "view-in-github",
        "colab_type": "text"
      },
      "source": [
        "<a href=\"https://colab.research.google.com/github/mfaridn03/ISYS2001/blob/main/Week07/ccc18s1.ipynb\" target=\"_parent\"><img src=\"https://colab.research.google.com/assets/colab-badge.svg\" alt=\"Open In Colab\"/></a>"
      ]
    },
    {
      "cell_type": "markdown",
      "source": [
        "# DMOJ Problem ccc18s1\n",
        "Solution"
      ],
      "metadata": {
        "id": "5McmB_Zyw5Y4"
      }
    },
    {
      "cell_type": "code",
      "execution_count": 1,
      "metadata": {
        "colab": {
          "base_uri": "https://localhost:8080/"
        },
        "id": "eBIb1G6Fw2KK",
        "outputId": "35c4c66d-0d4b-4829-b67c-6154d4183813"
      },
      "outputs": [
        {
          "output_type": "stream",
          "name": "stdout",
          "text": [
            "5\n",
            "15\n",
            "4\n",
            "10\n",
            "0\n",
            "16\n",
            "3.0\n"
          ]
        }
      ],
      "source": [
        "village_count = int(input())\n",
        "villages = [int(input()) for _ in range(village_count)]\n",
        "# sort villages\n",
        "villages.sort()\n",
        "\n",
        "distances = []\n",
        "\n",
        "for i in range(1, len(villages) - 1):\n",
        "    # get neighbouring villages\n",
        "    cur_village = villages[i]\n",
        "    prev_village = villages[i - 1]\n",
        "    next_village = villages[i + 1]\n",
        "\n",
        "    # calculate distances:\n",
        "    # prev to cur = (cur - prev) / 2. round to 1 digit\n",
        "    # cur to next = (next - cur) / 2. round to 1 digit\n",
        "    # add them and append\n",
        "    distances.append(\n",
        "        round((cur_village - prev_village) / 2, 1)\n",
        "        + round((next_village - cur_village) / 2, 1)\n",
        "    )\n",
        "\n",
        "# sort distances and print the smallest\n",
        "distances.sort()\n",
        "print(distances[0])"
      ]
    }
  ]
}